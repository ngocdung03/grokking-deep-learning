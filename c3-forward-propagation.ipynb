{
 "cells": [
  {
   "cell_type": "markdown",
   "metadata": {},
   "source": [
    "### C3 forward propagation"
   ]
  },
  {
   "cell_type": "code",
   "execution_count": 3,
   "metadata": {},
   "outputs": [
    {
     "data": {
      "text/plain": [
       "11"
      ]
     },
     "execution_count": 3,
     "metadata": {},
     "output_type": "execute_result"
    }
   ],
   "source": [
    "# Perform a dot product\n",
    "def elementwise_multiplication(vec_a, vec_b):\n",
    "    if len(vec_a) != len(vec_b):\n",
    "        return 'Two vectors must have the same length'\n",
    "    else:\n",
    "        c = []\n",
    "        for i in range(len(vec_a)):\n",
    "            c.append(vec_a[i] * vec_b[i])\n",
    "        return c\n",
    "\n",
    "elementwise_multiplication([1,2], [3,4])\n",
    "\n",
    "def vector_sum(vec_a):\n",
    "    sum = 0\n",
    "    for i in range(len(vec_a)):\n",
    "        sum += vec_a[i]\n",
    "    return sum\n",
    "\n",
    "vector_sum(\n",
    "    elementwise_multiplication(\n",
    "    [1,2], [3,4]\n",
    "    ))\n",
    "\n",
    "# def w_sum(a,b):\n",
    "\n",
    "#     assert(len(a) == len(b))\n",
    "#     output = 0\n",
    "#     for i in range(len(a)):\n",
    "#         output += (a[i] * b[i])\n",
    "#     return output"
   ]
  },
  {
   "cell_type": "code",
   "execution_count": 4,
   "metadata": {},
   "outputs": [
    {
     "name": "stdout",
     "output_type": "stream",
     "text": [
      "0.9800000000000001\n"
     ]
    }
   ],
   "source": [
    "# NumPy code\n",
    "import numpy as np\n",
    "weights = np.array([0.1, 0.2, 0])\n",
    "def neural_network(input, weights):\n",
    "    pred = input.dot(weights)\n",
    "    return pred\n",
    "\n",
    "toes = np.array([8.5, 9.5, 9.9, 9.0])\n",
    "wlrec = np.array([0.65, 0.8, 0.8, 0.9])\n",
    "nfans = np.array([1.2, 1.3, 0.5, 1.0])\n",
    "\n",
    "input = np.array([toes[0], wlrec[0], nfans[0]])\n",
    "pred = neural_network(input, weights)\n",
    "print(pred)"
   ]
  },
  {
   "cell_type": "code",
   "execution_count": 8,
   "metadata": {},
   "outputs": [
    {
     "name": "stdout",
     "output_type": "stream",
     "text": [
      "[0.195, 0.13, 0.5850000000000001]\n"
     ]
    }
   ],
   "source": [
    "# Prediction with multiple outputs\n",
    "\n",
    "def ele_mul(number, vector):\n",
    "    output = [0, 0, 0]\n",
    "    assert(len(output) == len(vector))\n",
    "    for i in range(len(vector)):\n",
    "        output[i] = number * vector[i]\n",
    "    \n",
    "    return output\n",
    "\n",
    "weights = [0.3, 0.2, 0.9]     #three predictions are completely separate\n",
    "def neural_network(input, weights):\n",
    "    pred = ele_mul(input, weights)\n",
    "    return pred\n",
    "\n",
    "wlrec = [0.65, 0.8, 0.8, 0.9]\n",
    "input = wlrec[0]\n",
    "pred = neural_network(input, weights)\n",
    "print(pred)"
   ]
  },
  {
   "cell_type": "code",
   "execution_count": 13,
   "metadata": {},
   "outputs": [
    {
     "name": "stdout",
     "output_type": "stream",
     "text": [
      "[0.555, 0.9800000000000001, 0.9650000000000001]\n"
     ]
    }
   ],
   "source": [
    "# Multiple inputs and outputs\n",
    "# input\n",
    "toes = np.array([8.5, 9.5, 9.9, 9.0])\n",
    "wlrec = np.array([0.65, 0.8, 0.8, 0.9])\n",
    "nfans = np.array([1.2, 1.3, 0.5, 1.0])\n",
    "\n",
    "input = np.array([toes[0], wlrec[0], nfans[0]])\n",
    "\n",
    "\n",
    "# For each output, performing a weighted sum of inputs\n",
    "def w_sum(a, b):\n",
    "        assert(len(a) == len(b))\n",
    "        output = 0\n",
    "        for i in range(len(a)):\n",
    "                output += (a[i] * b[i])\n",
    "        return output\n",
    "\n",
    "def vect_mat_mul(vect, matrix):\n",
    "        assert(len(vect) == len(matrix))\n",
    "        output = [0,0,0]\n",
    "        \n",
    "        for i in range(len(vect)):\n",
    "                output[i] = w_sum(vect, matrix[i])\n",
    "        \n",
    "        return output\n",
    "\n",
    "# Network\n",
    "        # toes  #win   #fants\n",
    "weights = [[0.1, 0.1, -0.3],   # hurt?\n",
    "           [0.1, 0.2, 0.0],     # win? \n",
    "           [0.0, 1.3, 0.1]]    # sad?\n",
    "\n",
    "def neural_network(input, weights):\n",
    "    pred = vect_mat_mul(input, weights)\n",
    "    return pred\n",
    "\n",
    "pred = neural_network(input, weights)\n",
    "\n",
    "print(pred)"
   ]
  },
  {
   "cell_type": "code",
   "execution_count": null,
   "metadata": {},
   "outputs": [],
   "source": [
    "# Predicting on predictions\n",
    "# Network\n",
    "ih_"
   ]
  }
 ],
 "metadata": {
  "interpreter": {
   "hash": "26dd98b9568b44f3bcd9eb8999b98f597bb86a492de0b0f997781156383f1a16"
  },
  "kernelspec": {
   "display_name": "Python 3.9.7 64-bit ('base': conda)",
   "language": "python",
   "name": "python3"
  },
  "language_info": {
   "codemirror_mode": {
    "name": "ipython",
    "version": 3
   },
   "file_extension": ".py",
   "mimetype": "text/x-python",
   "name": "python",
   "nbconvert_exporter": "python",
   "pygments_lexer": "ipython3",
   "version": "3.9.7"
  },
  "orig_nbformat": 4
 },
 "nbformat": 4,
 "nbformat_minor": 2
}
